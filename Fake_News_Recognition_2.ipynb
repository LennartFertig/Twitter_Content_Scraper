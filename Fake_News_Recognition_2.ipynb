{
 "cells": [
  {
   "cell_type": "code",
   "execution_count": 1,
   "metadata": {},
   "outputs": [],
   "source": [
    "# Basics\n",
    "import numpy as np \n",
    "import pandas as pd \n",
    "import matplotlib.pyplot as plt\n",
    "import gc\n",
    "\n",
    "# PyTorch\n",
    "import torch\n",
    "import torch.nn as nn\n",
    "import torch.nn.functional as F\n",
    "from torch import optim\n",
    "from torch.utils.data import DataLoader, Dataset\n",
    "from torch.nn.utils.rnn import pad_sequence\n",
    "from transformers import BertTokenizer, BertForSequenceClassification\n",
    "from torch.cuda.amp import GradScaler, autocast\n",
    "\n",
    "# Utils\n",
    "from sklearn.model_selection import train_test_split\n",
    "from tqdm import tqdm\n",
    "import time\n"
   ]
  },
  {
   "cell_type": "code",
   "execution_count": 2,
   "metadata": {},
   "outputs": [
    {
     "name": "stdout",
     "output_type": "stream",
     "text": [
      "Real samples: 21417\n",
      "Fake samples: 23481\n",
      "train samples: 33673\n",
      "test samples: 11225\n"
     ]
    }
   ],
   "source": [
    "df_real = pd.read_csv('data/True.csv')\n",
    "df_fake = pd.read_csv('data/Fake.csv')\n",
    "\n",
    "data_real = df_real.text.values.tolist()\n",
    "labels_real = [0 for el in data_real]\n",
    "print(f'Real samples: {len(data_real)}')\n",
    "\n",
    "\n",
    "data_fake = df_fake.text.values.tolist()\n",
    "labels_fake = [1 for el in data_fake]\n",
    "\n",
    "print(f'Fake samples: {len(data_fake)}')\n",
    "\n",
    "data = data_real.copy()\n",
    "labels = labels_real.copy()\n",
    "\n",
    "data.extend(data_fake)\n",
    "labels.extend(labels_fake)\n",
    "\n",
    "X_train, X_test, y_train, y_test = train_test_split(data, labels, test_size=0.25)\n",
    "\n",
    "print(f'train samples: {len(X_train)}')\n",
    "print(f'test samples: {len(X_test)}')"
   ]
  },
  {
   "cell_type": "code",
   "execution_count": 3,
   "metadata": {},
   "outputs": [
    {
     "name": "stdout",
     "output_type": "stream",
     "text": [
      "Special tokens indices\n",
      "[PAD]: 0\n",
      "[UNK]: 100\n"
     ]
    }
   ],
   "source": [
    "# Load tokenizer\n",
    "tokenizer = BertTokenizer.from_pretrained('bert-base-uncased')\n",
    "\n",
    "# Check where the PAD token is\n",
    "print('Special tokens indices')\n",
    "print(f'{tokenizer.pad_token}: {tokenizer.convert_tokens_to_ids(tokenizer.pad_token)}')\n",
    "print(f'{tokenizer.unk_token}: {tokenizer.convert_tokens_to_ids(tokenizer.unk_token)}')"
   ]
  },
  {
   "cell_type": "code",
   "execution_count": 4,
   "metadata": {},
   "outputs": [],
   "source": [
    "# Build Data loaders for training/testing\n",
    "def collate_batch(batch):\n",
    "    label_list, text_list = [], []\n",
    "    for (_labels, _text) in batch: \n",
    "        processed_text = torch.tensor(tokenizer.encode(_text, add_special_tokens=True))\n",
    "        text_list.append(processed_text)\n",
    "        label_list.append(_labels)\n",
    "    return pad_sequence(text_list, padding_value=0.)[:512], torch.tensor(label_list)\n",
    "\n",
    "train_loader = DataLoader(list(zip(y_train, X_train)), batch_size=32, shuffle=True, collate_fn=collate_batch)\n",
    "test_loader = DataLoader(list(zip(y_test, X_test)), batch_size=32, shuffle=True, collate_fn=collate_batch)"
   ]
  },
  {
   "cell_type": "code",
   "execution_count": 6,
   "metadata": {},
   "outputs": [
    {
     "name": "stderr",
     "output_type": "stream",
     "text": [
      "Some weights of the model checkpoint at bert-base-uncased were not used when initializing BertForSequenceClassification: ['cls.predictions.transform.dense.weight', 'cls.seq_relationship.bias', 'cls.predictions.bias', 'cls.predictions.transform.LayerNorm.weight', 'cls.seq_relationship.weight', 'cls.predictions.decoder.weight', 'cls.predictions.transform.LayerNorm.bias', 'cls.predictions.transform.dense.bias']\n",
      "- This IS expected if you are initializing BertForSequenceClassification from the checkpoint of a model trained on another task or with another architecture (e.g. initializing a BertForSequenceClassification model from a BertForPreTraining model).\n",
      "- This IS NOT expected if you are initializing BertForSequenceClassification from the checkpoint of a model that you expect to be exactly identical (initializing a BertForSequenceClassification model from a BertForSequenceClassification model).\n",
      "Some weights of BertForSequenceClassification were not initialized from the model checkpoint at bert-base-uncased and are newly initialized: ['classifier.weight', 'classifier.bias']\n",
      "You should probably TRAIN this model on a down-stream task to be able to use it for predictions and inference.\n"
     ]
    }
   ],
   "source": [
    "# Load model. This is just one of the simple ones\n",
    "model = BertForSequenceClassification.from_pretrained(\"bert-base-uncased\")\n",
    "\n",
    "# Freeze the model\n",
    "for param in model.parameters(): \n",
    "    param.requires_grad = False\n",
    "\n",
    "# Let last layer to train\n",
    "model.classifier = nn.Linear(in_features=768, out_features=2, bias=True)\n",
    "\n",
    "# Send to cpu\n",
    "device = torch.device('cpu')\n",
    "_ = model.to(device)"
   ]
  },
  {
   "cell_type": "code",
   "execution_count": 7,
   "metadata": {},
   "outputs": [
    {
     "name": "stderr",
     "output_type": "stream",
     "text": [
      "Epoch 0 train:   0%|          | 0/1053 [00:00<?, ?it/s]Token indices sequence length is longer than the specified maximum sequence length for this model (653 > 512). Running this sequence through the model will result in indexing errors\n"
     ]
    }
   ],
   "source": [
    "learning_rate = 2e-3\n",
    "optimizer = optim.Adagrad(model.parameters(), lr=learning_rate)\n",
    "epochs = 3\n",
    "criterion = nn.CrossEntropyLoss()\n",
    "\n",
    "train_loss = []\n",
    "test_loss = []\n",
    "train_accuracy = []\n",
    "test_accuracy = []\n",
    "\n",
    "test_max = 20\n",
    "\n",
    "for epoch in range(epochs): \n",
    "    \n",
    "    correct_predictions = 0\n",
    "    train_size = 0\n",
    "    running_loss = 0\n",
    "    step = 0\n",
    "    \n",
    "    for x, y in tqdm(train_loader, desc=f'Epoch {epoch} train', leave=False):\n",
    "        \n",
    "        model.train() \n",
    "        \n",
    "        x = x.to(device)\n",
    "        y = y.to(device)\n",
    "        \n",
    "        \n",
    "        optimizer.zero_grad()\n",
    "\n",
    "        scores = model(x.T)[0]\n",
    "        loss = criterion(scores, y)\n",
    "        \n",
    "        loss.backward()\n",
    "        optimizer.step()\n",
    "        \n",
    "        model.eval()\n",
    "        with torch.no_grad():\n",
    "            _, predictions = scores.max(1)\n",
    "            correct_predictions +=(predictions == y).sum()\n",
    "            train_size += predictions.size(0)\n",
    "            \n",
    "        running_loss += loss.item()\n",
    "        step += 1\n",
    "        \n",
    "        # These two lines, allegedly, make it more memory efficient\n",
    "        del x, y, scores, loss \n",
    "        gc.collect()\n",
    "         \n",
    "    # Save train loss and accuracy\n",
    "    train_loss.append(running_loss/step)\n",
    "    train_accuracy.append(correct_predictions/train_size)\n",
    "        \n",
    "    ## Eval\n",
    "    # Just for some batches, to see it is not increasing, to save a bit of time.\n",
    "    # We get the accuracy and loss of the full test dataset below.\n",
    "    model.eval()\n",
    "    with torch.no_grad():\n",
    "        correct_predictions_test = 0\n",
    "        test_size = 0\n",
    "        running_test_loss = 0\n",
    "        step = 0\n",
    "        test_it = 0\n",
    "        \n",
    "        for x, y in tqdm(test_loader, desc=f'Epoch {epoch} test', leave=False): \n",
    "            \n",
    "            x= x.to(device)\n",
    "            scores = model(x.T)[0]\n",
    "            \n",
    "            del x\n",
    "            gc.collect()\n",
    "            \n",
    "            y = y.to(device)\n",
    "            loss = criterion(scores, y)\n",
    "            _, predictions = scores.max(1)\n",
    "            correct_predictions_test +=(predictions == y).sum()\n",
    "            test_size += predictions.size(0)\n",
    "            running_test_loss += loss.item()\n",
    "            step += 1\n",
    "            test_it += 1\n",
    "            if test_it > test_max:\n",
    "                break\n",
    "            \n",
    "        \n",
    "        # Save test loss and accuracy\n",
    "        test_loss.append(running_test_loss/step)\n",
    "        test_accuracy.append(correct_predictions_test/test_size)\n",
    "        \n",
    "        \n",
    "        # Print\n",
    "        print(f'Epoch {epoch}')\n",
    "        print(f'\\n   Train loss: {train_loss[-1]:.4f}      Train accuracy: {train_accuracy[-1]:.4f}')\n",
    "        print(f'\\n   Test loss: {test_loss[-1]:.4f}      Test accuracy: {test_accuracy[-1]:.4f}\\n\\n')\n",
    "        time.sleep(2)\n",
    "        "
   ]
  },
  {
   "cell_type": "code",
   "execution_count": null,
   "metadata": {},
   "outputs": [],
   "source": [
    "fig, (ax1, ax2) = plt.subplots(1, 2, figsize=(15,6))\n",
    "\n",
    "ax1.plot(range(len(train_loss)), train_loss, label='Train loss')\n",
    "ax1.plot(range(len(test_loss)), test_loss, label='Test loss')\n",
    "ax1.legend()\n",
    "\n",
    "ax2.plot(range(len(train_accuracy)), train_accuracy, label='Train accuracy')\n",
    "ax2.plot(range(len(test_accuracy)), test_accuracy, label='Test accuracy')\n",
    "ax2.legend();"
   ]
  }
 ],
 "metadata": {
  "kernelspec": {
   "display_name": "Python 3.6.8 64-bit",
   "language": "python",
   "name": "python3"
  },
  "language_info": {
   "codemirror_mode": {
    "name": "ipython",
    "version": 3
   },
   "file_extension": ".py",
   "mimetype": "text/x-python",
   "name": "python",
   "nbconvert_exporter": "python",
   "pygments_lexer": "ipython3",
   "version": "3.6.8"
  },
  "orig_nbformat": 4,
  "vscode": {
   "interpreter": {
    "hash": "aee8b7b246df8f9039afb4144a1f6fd8d2ca17a180786b69acc140d282b71a49"
   }
  }
 },
 "nbformat": 4,
 "nbformat_minor": 2
}
